{
 "cells": [
  {
   "cell_type": "markdown",
   "metadata": {},
   "source": [
    "# Querying Alzheimer's disease graph from DisGeNET-RDF\n",
    "\n",
    "## BioHackathon 2023\n",
    "### GOAL\n",
    "\n",
    "Query DisGeNET-RDF to subset the graph related to all Alzheimer's disease terms and disease risk factors such as genes, and variants.\n",
    "\n",
    "Web: https://www.disgenet.org/rdf\n",
    "\n",
    "RDF Schema: https://www.disgenet.org/static/disgenet_ap1/images/rdf/disgenet_rdf_schema_v7.png\n",
    "\n",
    "SPARQL endpoint: http://rdf.disgenet.org/sparql/\n",
    "\n",
    "Query date: 28 June 2023\n",
    "\n",
    "\n",
    "### Imports"
   ]
  },
  {
   "cell_type": "code",
   "execution_count": 1,
   "metadata": {},
   "outputs": [],
   "source": [
    "from SPARQLWrapper import SPARQLWrapper, JSON\n",
    "import pandas as pd\n",
    "import matplotlib.pyplot as plt"
   ]
  },
  {
   "cell_type": "markdown",
   "metadata": {},
   "source": [
    "### Functions"
   ]
  },
  {
   "cell_type": "code",
   "execution_count": 2,
   "metadata": {},
   "outputs": [],
   "source": [
    "def query_to_dataframe(query_results):\n",
    "    \"\"\"\n",
    "    Function to transform SPARQL query results into a clean list of dictionaries.\n",
    "    \n",
    "    query_results: A list of query results returned by SPARQLWrapper.\n",
    "    return: A list of dictionaries, where each dictionary represents a result row \n",
    "    and has keys corresponding to the variables in the SPARQL SELECT clause.\n",
    "    \"\"\"\n",
    "    new_results = []\n",
    "    for result in query_results:\n",
    "        new_result = {}\n",
    "        for key in result:\n",
    "            new_result[key] = result[key]['value']\n",
    "        new_results.append(new_result)\n",
    "    return new_results"
   ]
  },
  {
   "cell_type": "markdown",
   "metadata": {},
   "source": [
    "### SPARQL set up"
   ]
  },
  {
   "cell_type": "code",
   "execution_count": 3,
   "metadata": {},
   "outputs": [],
   "source": [
    "# access the SPARQL endpoint API\n",
    "sparql = SPARQLWrapper(\n",
    "    \"http://rdf.disgenet.org/sparql/\"\n",
    ")\n",
    "sparql.setReturnFormat(JSON)"
   ]
  },
  {
   "cell_type": "markdown",
   "metadata": {},
   "source": [
    "## Queries\n",
    "\n",
    "### Query Alzheimer's disease term and all its associated genes (score >= 0.4)"
   ]
  },
  {
   "cell_type": "code",
   "execution_count": 4,
   "metadata": {},
   "outputs": [],
   "source": [
    "# Statistics\n",
    "sparql.setQuery(\"\"\"\n",
    "    SELECT DISTINCT ?score ?gene\n",
    "    WHERE { \n",
    "        ?gda sio:SIO_000628 ?gene,?disease ; \n",
    "            sio:SIO_000216 ?scoreIRI . \n",
    "        ?gene rdf:type ncit:C16612 ;\n",
    "            dcterms:title ?geneName . \n",
    "        ?disease rdf:type ncit:C7057 ; \n",
    "            dcterms:title \"Alzheimer's Disease\"@en . \n",
    "        ?scoreIRI sio:SIO_000300 ?score . \n",
    "    } \n",
    "\"\"\")\n",
    "try:\n",
    "    res = sparql.queryAndConvert()\n",
    "except Exception as e:\n",
    "    print(e)"
   ]
  },
  {
   "cell_type": "code",
   "execution_count": 5,
   "metadata": {
    "scrolled": true
   },
   "outputs": [
    {
     "name": "stdout",
     "output_type": "stream",
     "text": [
      "(3397, 2)\n"
     ]
    },
    {
     "data": {
      "text/html": [
       "<div>\n",
       "<style scoped>\n",
       "    .dataframe tbody tr th:only-of-type {\n",
       "        vertical-align: middle;\n",
       "    }\n",
       "\n",
       "    .dataframe tbody tr th {\n",
       "        vertical-align: top;\n",
       "    }\n",
       "\n",
       "    .dataframe thead th {\n",
       "        text-align: right;\n",
       "    }\n",
       "</style>\n",
       "<table border=\"1\" class=\"dataframe\">\n",
       "  <thead>\n",
       "    <tr style=\"text-align: right;\">\n",
       "      <th></th>\n",
       "      <th>gene</th>\n",
       "      <th>score</th>\n",
       "    </tr>\n",
       "  </thead>\n",
       "  <tbody>\n",
       "    <tr>\n",
       "      <th>0</th>\n",
       "      <td>http://identifiers.org/ncbigene/10266</td>\n",
       "      <td>0.01</td>\n",
       "    </tr>\n",
       "    <tr>\n",
       "      <th>1</th>\n",
       "      <td>http://identifiers.org/ncbigene/11075</td>\n",
       "      <td>0.01</td>\n",
       "    </tr>\n",
       "    <tr>\n",
       "      <th>2</th>\n",
       "      <td>http://identifiers.org/ncbigene/245802</td>\n",
       "      <td>0.04</td>\n",
       "    </tr>\n",
       "    <tr>\n",
       "      <th>3</th>\n",
       "      <td>http://identifiers.org/ncbigene/140689</td>\n",
       "      <td>0.01</td>\n",
       "    </tr>\n",
       "    <tr>\n",
       "      <th>4</th>\n",
       "      <td>http://identifiers.org/ncbigene/79810</td>\n",
       "      <td>0.01</td>\n",
       "    </tr>\n",
       "  </tbody>\n",
       "</table>\n",
       "</div>"
      ],
      "text/plain": [
       "                                     gene score\n",
       "0   http://identifiers.org/ncbigene/10266  0.01\n",
       "1   http://identifiers.org/ncbigene/11075  0.01\n",
       "2  http://identifiers.org/ncbigene/245802  0.04\n",
       "3  http://identifiers.org/ncbigene/140689  0.01\n",
       "4   http://identifiers.org/ncbigene/79810  0.01"
      ]
     },
     "execution_count": 5,
     "metadata": {},
     "output_type": "execute_result"
    }
   ],
   "source": [
    "# query results to clean dataframe\n",
    "res_list = res[\"results\"][\"bindings\"]\n",
    "new_res_list = query_to_dataframe(res_list)\n",
    "q0_df = pd.DataFrame.from_dict(new_res_list)\n",
    "print(q0_df.shape)\n",
    "q0_df.head()"
   ]
  },
  {
   "cell_type": "code",
   "execution_count": 6,
   "metadata": {},
   "outputs": [
    {
     "data": {
      "text/plain": [
       "0.01    1549\n",
       "0.02     482\n",
       "0.1      453\n",
       "0.03     244\n",
       "0.04     149\n",
       "0.05     121\n",
       "0.07      53\n",
       "0.06      51\n",
       "0.08      48\n",
       "0.3       30\n",
       "0.11      27\n",
       "0.09      27\n",
       "0.4       23\n",
       "0.12      15\n",
       "0.5       14\n",
       "0.6        9\n",
       "0.31       8\n",
       "0.2        8\n",
       "0.13       8\n",
       "0.7        7\n",
       "0.21       6\n",
       "0.17       5\n",
       "0.14       5\n",
       "0.33       5\n",
       "0.24       4\n",
       "0.26       4\n",
       "0.32       4\n",
       "0.35       3\n",
       "0.23       3\n",
       "0.16       3\n",
       "0.29       2\n",
       "0.34       2\n",
       "0.36       2\n",
       "0.22       2\n",
       "0.9        2\n",
       "0.42       2\n",
       "0.44       1\n",
       "0.57       1\n",
       "0.53       1\n",
       "0.18       1\n",
       "0.19       1\n",
       "0.15       1\n",
       "0.38       1\n",
       "0.56       1\n",
       "0.45       1\n",
       "0.39       1\n",
       "0.52       1\n",
       "0.43       1\n",
       "0.49       1\n",
       "0.54       1\n",
       "0.25       1\n",
       "0.68       1\n",
       "0.28       1\n",
       "Name: score, dtype: int64"
      ]
     },
     "execution_count": 6,
     "metadata": {},
     "output_type": "execute_result"
    }
   ],
   "source": [
    "q0_df['score'].value_counts()"
   ]
  },
  {
   "cell_type": "code",
   "execution_count": 7,
   "metadata": {
    "scrolled": true
   },
   "outputs": [
    {
     "data": {
      "text/plain": [
       "Text(0, 0.5, 'Number of genes')"
      ]
     },
     "execution_count": 7,
     "metadata": {},
     "output_type": "execute_result"
    },
    {
     "data": {
      "image/png": "[encoded data removed]",
      "text/plain": [
       "<Figure size 1008x576 with 1 Axes>"
      ]
     },
     "metadata": {
      "needs_background": "light"
     },
     "output_type": "display_data"
    }
   ],
   "source": [
    "ax=q0_df['score'].value_counts().plot(kind='bar',\n",
    "                                   figsize=(14,8),\n",
    "                                   title=\"Number of genes per score\"\n",
    "                                  )\n",
    "ax.set_xlabel(\"Score\")\n",
    "ax.set_ylabel(\"Number of genes\")"
   ]
  },
  {
   "cell_type": "code",
   "execution_count": 8,
   "metadata": {},
   "outputs": [],
   "source": [
    "# Query score >= 0.4\n",
    "sparql.setQuery(\"\"\"\n",
    "    SELECT DISTINCT ?gene str(?geneName) as ?name ?score \n",
    "    WHERE { \n",
    "        ?gda sio:SIO_000628 ?gene,?disease ; \n",
    "            sio:SIO_000216 ?scoreIRI . \n",
    "        ?gene rdf:type ncit:C16612 ;\n",
    "            dcterms:title ?geneName . \n",
    "        ?disease rdf:type ncit:C7057 ; \n",
    "            dcterms:title \"Alzheimer's Disease\"@en . \n",
    "        ?scoreIRI sio:SIO_000300 ?score . \n",
    "        FILTER (?score >= 0.4) \n",
    "    } ORDER BY DESC(?score) \n",
    "\"\"\")\n",
    "try:\n",
    "    res = sparql.queryAndConvert()\n",
    "except Exception as e:\n",
    "    print(e)"
   ]
  },
  {
   "cell_type": "code",
   "execution_count": 9,
   "metadata": {},
   "outputs": [
    {
     "name": "stdout",
     "output_type": "stream",
     "text": [
      "(67, 3)\n"
     ]
    },
    {
     "data": {
      "text/html": [
       "<div>\n",
       "<style scoped>\n",
       "    .dataframe tbody tr th:only-of-type {\n",
       "        vertical-align: middle;\n",
       "    }\n",
       "\n",
       "    .dataframe tbody tr th {\n",
       "        vertical-align: top;\n",
       "    }\n",
       "\n",
       "    .dataframe thead th {\n",
       "        text-align: right;\n",
       "    }\n",
       "</style>\n",
       "<table border=\"1\" class=\"dataframe\">\n",
       "  <thead>\n",
       "    <tr style=\"text-align: right;\">\n",
       "      <th></th>\n",
       "      <th>gene</th>\n",
       "      <th>name</th>\n",
       "      <th>score</th>\n",
       "    </tr>\n",
       "  </thead>\n",
       "  <tbody>\n",
       "    <tr>\n",
       "      <th>0</th>\n",
       "      <td>http://identifiers.org/ncbigene/1636</td>\n",
       "      <td>angiotensin I converting enzyme</td>\n",
       "      <td>0.9</td>\n",
       "    </tr>\n",
       "    <tr>\n",
       "      <th>1</th>\n",
       "      <td>http://identifiers.org/ncbigene/351</td>\n",
       "      <td>amyloid beta precursor protein</td>\n",
       "      <td>0.9</td>\n",
       "    </tr>\n",
       "    <tr>\n",
       "      <th>2</th>\n",
       "      <td>http://identifiers.org/ncbigene/102</td>\n",
       "      <td>ADAM metallopeptidase domain 10</td>\n",
       "      <td>0.7</td>\n",
       "    </tr>\n",
       "    <tr>\n",
       "      <th>3</th>\n",
       "      <td>http://identifiers.org/ncbigene/3077</td>\n",
       "      <td>homeostatic iron regulator</td>\n",
       "      <td>0.7</td>\n",
       "    </tr>\n",
       "    <tr>\n",
       "      <th>4</th>\n",
       "      <td>http://identifiers.org/ncbigene/4137</td>\n",
       "      <td>microtubule associated protein tau</td>\n",
       "      <td>0.7</td>\n",
       "    </tr>\n",
       "  </tbody>\n",
       "</table>\n",
       "</div>"
      ],
      "text/plain": [
       "                                   gene                                name  \\\n",
       "0  http://identifiers.org/ncbigene/1636     angiotensin I converting enzyme   \n",
       "1   http://identifiers.org/ncbigene/351      amyloid beta precursor protein   \n",
       "2   http://identifiers.org/ncbigene/102     ADAM metallopeptidase domain 10   \n",
       "3  http://identifiers.org/ncbigene/3077          homeostatic iron regulator   \n",
       "4  http://identifiers.org/ncbigene/4137  microtubule associated protein tau   \n",
       "\n",
       "  score  \n",
       "0   0.9  \n",
       "1   0.9  \n",
       "2   0.7  \n",
       "3   0.7  \n",
       "4   0.7  "
      ]
     },
     "execution_count": 9,
     "metadata": {},
     "output_type": "execute_result"
    }
   ],
   "source": [
    "# query results to clean dataframe\n",
    "res_list = res[\"results\"][\"bindings\"]\n",
    "new_res_list = query_to_dataframe(res_list)\n",
    "q1_df = pd.DataFrame.from_dict(new_res_list)\n",
    "print(q1_df.shape)\n",
    "q1_df.head()"
   ]
  },
  {
   "cell_type": "markdown",
   "metadata": {},
   "source": [
    "### Query Alzheimer's disease term and all its associated variants (score >= 0.4), and their associated genes (if any)"
   ]
  },
  {
   "cell_type": "code",
   "execution_count": 10,
   "metadata": {},
   "outputs": [],
   "source": [
    "# Statistics\n",
    "sparql.setQuery(\"\"\"\n",
    "    SELECT distinct \n",
    "    ?variant\n",
    "    ?score\n",
    "    WHERE {\n",
    "        ?vda sio:SIO_000628 ?variant,?disease;\n",
    "            sio:SIO_000216 ?scoreIRI .\n",
    "        ?scoreIRI sio:SIO_000300 ?score .\n",
    "        ?disease a ncit:C7057 ;\n",
    "            dcterms:title \"Alzheimer's Disease\"@en .\n",
    "        ?variant a ?type .\n",
    "        FILTER (?type!=so:0001060)\n",
    "    }\n",
    "\"\"\")\n",
    "try:\n",
    "    res = sparql.queryAndConvert()\n",
    "except Exception as e:\n",
    "    print(e)"
   ]
  },
  {
   "cell_type": "code",
   "execution_count": 11,
   "metadata": {},
   "outputs": [
    {
     "name": "stdout",
     "output_type": "stream",
     "text": [
      "(5178, 2)\n"
     ]
    },
    {
     "data": {
      "text/html": [
       "<div>\n",
       "<style scoped>\n",
       "    .dataframe tbody tr th:only-of-type {\n",
       "        vertical-align: middle;\n",
       "    }\n",
       "\n",
       "    .dataframe tbody tr th {\n",
       "        vertical-align: top;\n",
       "    }\n",
       "\n",
       "    .dataframe thead th {\n",
       "        text-align: right;\n",
       "    }\n",
       "</style>\n",
       "<table border=\"1\" class=\"dataframe\">\n",
       "  <thead>\n",
       "    <tr style=\"text-align: right;\">\n",
       "      <th></th>\n",
       "      <th>score</th>\n",
       "      <th>variant</th>\n",
       "    </tr>\n",
       "  </thead>\n",
       "  <tbody>\n",
       "    <tr>\n",
       "      <th>0</th>\n",
       "      <td>0.01</td>\n",
       "      <td>http://identifiers.org/ncbigene/10266</td>\n",
       "    </tr>\n",
       "    <tr>\n",
       "      <th>1</th>\n",
       "      <td>0.01</td>\n",
       "      <td>http://identifiers.org/ncbigene/11075</td>\n",
       "    </tr>\n",
       "    <tr>\n",
       "      <th>2</th>\n",
       "      <td>0.04</td>\n",
       "      <td>http://identifiers.org/ncbigene/245802</td>\n",
       "    </tr>\n",
       "    <tr>\n",
       "      <th>3</th>\n",
       "      <td>0.01</td>\n",
       "      <td>http://identifiers.org/ncbigene/140689</td>\n",
       "    </tr>\n",
       "    <tr>\n",
       "      <th>4</th>\n",
       "      <td>0.01</td>\n",
       "      <td>http://identifiers.org/ncbigene/79810</td>\n",
       "    </tr>\n",
       "  </tbody>\n",
       "</table>\n",
       "</div>"
      ],
      "text/plain": [
       "  score                                 variant\n",
       "0  0.01   http://identifiers.org/ncbigene/10266\n",
       "1  0.01   http://identifiers.org/ncbigene/11075\n",
       "2  0.04  http://identifiers.org/ncbigene/245802\n",
       "3  0.01  http://identifiers.org/ncbigene/140689\n",
       "4  0.01   http://identifiers.org/ncbigene/79810"
      ]
     },
     "execution_count": 11,
     "metadata": {},
     "output_type": "execute_result"
    }
   ],
   "source": [
    "# query results to clean dataframe\n",
    "res_list = res[\"results\"][\"bindings\"]\n",
    "new_res_list = query_to_dataframe(res_list)\n",
    "q0_df = pd.DataFrame.from_dict(new_res_list)\n",
    "print(q0_df.shape)\n",
    "q0_df.head()"
   ]
  },
  {
   "cell_type": "code",
   "execution_count": 12,
   "metadata": {},
   "outputs": [
    {
     "data": {
      "text/plain": [
       "0.01    2196\n",
       "0.7      701\n",
       "0.02     581\n",
       "0.1      470\n",
       "0.03     282\n",
       "0.04     167\n",
       "0.05     129\n",
       "0.8      105\n",
       "0.06      62\n",
       "0.07      59\n",
       "0.08      57\n",
       "0.09      32\n",
       "0.3       31\n",
       "0.11      28\n",
       "0.4       24\n",
       "0.12      16\n",
       "0.71      15\n",
       "0.5       15\n",
       "0.9       12\n",
       "0.81      11\n",
       "0.72      10\n",
       "0.6       10\n",
       "0.31       9\n",
       "0.13       9\n",
       "0.2        9\n",
       "0.82       7\n",
       "0.21       7\n",
       "0.83       7\n",
       "0.17       6\n",
       "0.14       6\n",
       "        ... \n",
       "0.73       3\n",
       "0.29       3\n",
       "0.34       3\n",
       "0.42       3\n",
       "0.84       3\n",
       "0.88       3\n",
       "0.36       3\n",
       "0.76       3\n",
       "0.22       3\n",
       "0.28       2\n",
       "0.38       2\n",
       "0.44       2\n",
       "0.85       2\n",
       "0.45       2\n",
       "0.25       2\n",
       "0.49       2\n",
       "0.18       2\n",
       "0.19       2\n",
       "0.68       2\n",
       "0.53       2\n",
       "0.57       2\n",
       "0.56       2\n",
       "0.54       2\n",
       "0.86       2\n",
       "0.39       2\n",
       "0.52       2\n",
       "0.89       2\n",
       "0.43       2\n",
       "0.79       2\n",
       "0.15       2\n",
       "Name: score, Length: 68, dtype: int64"
      ]
     },
     "execution_count": 12,
     "metadata": {},
     "output_type": "execute_result"
    }
   ],
   "source": [
    "q0_df['score'].value_counts()"
   ]
  },
  {
   "cell_type": "code",
   "execution_count": 13,
   "metadata": {},
   "outputs": [
    {
     "data": {
      "text/plain": [
       "Text(0, 0.5, 'Number of variants')"
      ]
     },
     "execution_count": 13,
     "metadata": {},
     "output_type": "execute_result"
    },
    {
     "data": {
      "image/png": "[encoded data removed]",
      "text/plain": [
       "<Figure size 1008x576 with 1 Axes>"
      ]
     },
     "metadata": {
      "needs_background": "light"
     },
     "output_type": "display_data"
    }
   ],
   "source": [
    "ax=q0_df['score'].value_counts().plot(kind='bar',\n",
    "                                   figsize=(14,8),\n",
    "                                   title=\"Number of variants per score\"\n",
    "                                  )\n",
    "ax.set_xlabel(\"Score\")\n",
    "ax.set_ylabel(\"Number of variants\")"
   ]
  },
  {
   "cell_type": "code",
   "execution_count": 14,
   "metadata": {},
   "outputs": [],
   "source": [
    "# Query score >= 0.4\n",
    "sparql.setQuery(\"\"\"\n",
    "    SELECT distinct \n",
    "    ?variant\n",
    "    str(?variantTitle) as ?variantName\n",
    "    ?gene\n",
    "    str(?geneTitle) as ?geneName\n",
    "    str(?refValue) as ?refAllele\n",
    "    str(?altValue) as ?altAllele\n",
    "    ?type as ?variantType\n",
    "    ?score\n",
    "    WHERE {\n",
    "        ?vda sio:SIO_000628 ?variant,?disease;\n",
    "            sio:SIO_000216 ?scoreIRI .\n",
    "        ?scoreIRI sio:SIO_000300 ?score .\n",
    "        ?disease a ncit:C7057 ;\n",
    "            dcterms:title \"Alzheimer's Disease\"@en .\n",
    "        ?variant a ?type .\n",
    "        ?variant dcterms:title ?variantTitle .\n",
    "        ?variant sio:SIO_000223 ?ref,?alt .\n",
    "        ?ref a geno:0000152 ;\n",
    "            sio:SIO_000300 ?refValue .\n",
    "        ?alt a geno:0000476 ;\n",
    "            sio:SIO_000300 ?altValue .\n",
    "        FILTER (?type!=so:0001060)\n",
    "        FILTER (?score >=0.4)\n",
    "        OPTIONAL {\n",
    "            ?variant so:associated_with ?gene .\n",
    "            ?gene a ncit:C16612 .\n",
    "            ?gene dcterms:title ?geneTitle\n",
    "        }\n",
    "    }\n",
    "    ORDER BY DESC(?score)\n",
    "\"\"\")\n",
    "try:\n",
    "    res = sparql.queryAndConvert()\n",
    "except Exception as e:\n",
    "    print(e)"
   ]
  },
  {
   "cell_type": "code",
   "execution_count": 15,
   "metadata": {},
   "outputs": [
    {
     "name": "stdout",
     "output_type": "stream",
     "text": [
      "(1869, 8)\n"
     ]
    }
   ],
   "source": [
    "# query results to clean dataframe\n",
    "res_list = res[\"results\"][\"bindings\"]\n",
    "new_res_list = query_to_dataframe(res_list)\n",
    "q2_df = pd.DataFrame.from_dict(new_res_list)\n",
    "print(q2_df.shape)"
   ]
  },
  {
   "cell_type": "code",
   "execution_count": 16,
   "metadata": {},
   "outputs": [
    {
     "data": {
      "text/plain": [
       "Index(['altAllele', 'gene', 'geneName', 'refAllele', 'score', 'variant',\n",
       "       'variantName', 'variantType'],\n",
       "      dtype='object')"
      ]
     },
     "execution_count": 16,
     "metadata": {},
     "output_type": "execute_result"
    }
   ],
   "source": [
    "# format cell values\n",
    "q2_df.columns"
   ]
  },
  {
   "cell_type": "code",
   "execution_count": 17,
   "metadata": {},
   "outputs": [
    {
     "name": "stdout",
     "output_type": "stream",
     "text": [
      "(1869, 8)\n"
     ]
    },
    {
     "data": {
      "text/html": [
       "<div>\n",
       "<style scoped>\n",
       "    .dataframe tbody tr th:only-of-type {\n",
       "        vertical-align: middle;\n",
       "    }\n",
       "\n",
       "    .dataframe tbody tr th {\n",
       "        vertical-align: top;\n",
       "    }\n",
       "\n",
       "    .dataframe thead th {\n",
       "        text-align: right;\n",
       "    }\n",
       "</style>\n",
       "<table border=\"1\" class=\"dataframe\">\n",
       "  <thead>\n",
       "    <tr style=\"text-align: right;\">\n",
       "      <th></th>\n",
       "      <th>variant</th>\n",
       "      <th>variantName</th>\n",
       "      <th>variantType</th>\n",
       "      <th>refAllele</th>\n",
       "      <th>altAllele</th>\n",
       "      <th>gene</th>\n",
       "      <th>geneName</th>\n",
       "      <th>score</th>\n",
       "    </tr>\n",
       "  </thead>\n",
       "  <tbody>\n",
       "    <tr>\n",
       "      <th>0</th>\n",
       "      <td>http://identifiers.org/dbsnp/rs2075650</td>\n",
       "      <td>rs2075650</td>\n",
       "      <td>http://purl.obolibrary.org/obo/SO_0001627</td>\n",
       "      <td>A</td>\n",
       "      <td>G</td>\n",
       "      <td>http://identifiers.org/ncbigene/107984619</td>\n",
       "      <td>uncharacterized LOC107984619</td>\n",
       "      <td>0.9</td>\n",
       "    </tr>\n",
       "    <tr>\n",
       "      <th>1</th>\n",
       "      <td>http://identifiers.org/dbsnp/rs3764650</td>\n",
       "      <td>rs3764650</td>\n",
       "      <td>http://purl.obolibrary.org/obo/SO_0001627</td>\n",
       "      <td>T</td>\n",
       "      <td>G</td>\n",
       "      <td>http://identifiers.org/ncbigene/10347</td>\n",
       "      <td>ATP binding cassette subfamily A member 7</td>\n",
       "      <td>0.9</td>\n",
       "    </tr>\n",
       "    <tr>\n",
       "      <th>2</th>\n",
       "      <td>http://identifiers.org/dbsnp/rs2075650</td>\n",
       "      <td>rs2075650</td>\n",
       "      <td>http://purl.obolibrary.org/obo/SO_0001627</td>\n",
       "      <td>A</td>\n",
       "      <td>G</td>\n",
       "      <td>http://identifiers.org/ncbigene/10452</td>\n",
       "      <td>translocase of outer mitochondrial membrane 40</td>\n",
       "      <td>0.9</td>\n",
       "    </tr>\n",
       "    <tr>\n",
       "      <th>3</th>\n",
       "      <td>http://identifiers.org/dbsnp/rs3764650</td>\n",
       "      <td>rs3764650</td>\n",
       "      <td>http://purl.obolibrary.org/obo/SO_0001627</td>\n",
       "      <td>T</td>\n",
       "      <td>G</td>\n",
       "      <td>http://identifiers.org/ncbigene/1749</td>\n",
       "      <td>distal-less homeobox 5</td>\n",
       "      <td>0.9</td>\n",
       "    </tr>\n",
       "    <tr>\n",
       "      <th>4</th>\n",
       "      <td>http://identifiers.org/dbsnp/rs75932628</td>\n",
       "      <td>rs75932628</td>\n",
       "      <td>http://purl.obolibrary.org/obo/SO_0001583</td>\n",
       "      <td>C</td>\n",
       "      <td>A</td>\n",
       "      <td>http://identifiers.org/ncbigene/54209</td>\n",
       "      <td>triggering receptor expressed on myeloid cells 2</td>\n",
       "      <td>0.9</td>\n",
       "    </tr>\n",
       "  </tbody>\n",
       "</table>\n",
       "</div>"
      ],
      "text/plain": [
       "                                   variant variantName  \\\n",
       "0   http://identifiers.org/dbsnp/rs2075650   rs2075650   \n",
       "1   http://identifiers.org/dbsnp/rs3764650   rs3764650   \n",
       "2   http://identifiers.org/dbsnp/rs2075650   rs2075650   \n",
       "3   http://identifiers.org/dbsnp/rs3764650   rs3764650   \n",
       "4  http://identifiers.org/dbsnp/rs75932628  rs75932628   \n",
       "\n",
       "                                 variantType refAllele altAllele  \\\n",
       "0  http://purl.obolibrary.org/obo/SO_0001627         A         G   \n",
       "1  http://purl.obolibrary.org/obo/SO_0001627         T         G   \n",
       "2  http://purl.obolibrary.org/obo/SO_0001627         A         G   \n",
       "3  http://purl.obolibrary.org/obo/SO_0001627         T         G   \n",
       "4  http://purl.obolibrary.org/obo/SO_0001583         C         A   \n",
       "\n",
       "                                        gene  \\\n",
       "0  http://identifiers.org/ncbigene/107984619   \n",
       "1      http://identifiers.org/ncbigene/10347   \n",
       "2      http://identifiers.org/ncbigene/10452   \n",
       "3       http://identifiers.org/ncbigene/1749   \n",
       "4      http://identifiers.org/ncbigene/54209   \n",
       "\n",
       "                                           geneName score  \n",
       "0                      uncharacterized LOC107984619   0.9  \n",
       "1         ATP binding cassette subfamily A member 7   0.9  \n",
       "2    translocase of outer mitochondrial membrane 40   0.9  \n",
       "3                            distal-less homeobox 5   0.9  \n",
       "4  triggering receptor expressed on myeloid cells 2   0.9  "
      ]
     },
     "execution_count": 17,
     "metadata": {},
     "output_type": "execute_result"
    }
   ],
   "source": [
    "q2_df = q2_df[['variant','variantName', 'variantType',\n",
    "               'refAllele','altAllele','gene', 'geneName','score']]\n",
    "print(q2_df.shape)\n",
    "q2_df.head()"
   ]
  },
  {
   "cell_type": "code",
   "execution_count": null,
   "metadata": {},
   "outputs": [],
   "source": []
  }
 ],
 "metadata": {
  "kernelspec": {
   "display_name": "Python 3",
   "language": "python",
   "name": "python3"
  },
  "language_info": {
   "codemirror_mode": {
    "name": "ipython",
    "version": 3
   },
   "file_extension": ".py",
   "mimetype": "text/x-python",
   "name": "python",
   "nbconvert_exporter": "python",
   "pygments_lexer": "ipython3",
   "version": "3.7.3"
  }
 },
 "nbformat": 4,
 "nbformat_minor": 2
}
